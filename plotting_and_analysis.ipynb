{
 "cells": [
  {
   "cell_type": "markdown",
   "metadata": {},
   "source": [
    "# Interactive Jupyter Notebook to plot and print activity data \n",
    "\n",
    "This Jupyter notebook provides an interactive method to view and visualize the results of the simulations run in BoolSim. Before proceeding, make sure that ```net_after_parsing.npy``` file exists in the current working folder. This file is generated once the simulation is successfully completed. If you can't find it, try running the simulation once again.\n",
    "\n",
    "If you haven't used Jupyter Notebooks before, don't worry! I have explained the basics of using a notebook below. For more instructions, here is a [Quick Start Guide](https://jupyter-notebook-beginner-guide.readthedocs.io/en/latest/)."
   ]
  },
  {
   "cell_type": "markdown",
   "metadata": {},
   "source": [
    "## What is a Jupyter notebook?\n",
    "\n",
    "Briefly, a Jupyter notebook (formerly IPython notebook) is a software application that runs inside a browser. It contains pieces of code which can be run in real-time along with text, figures, etc.\n",
    "\n",
    "All the text and code is contained and executed in \"cells\" in a notebook. If you double-clicked on this text, you see that this cell can be edited. Add some text here if you like. Everything you write will be automatically saved.\n",
    "\n",
    "To execute a cell, enter the cell (so that you see the blinking cursor in it) and press ```Shift + Enter```. Try executing the following cell containing a line of code in python."
   ]
  },
  {
   "cell_type": "code",
   "execution_count": 1,
   "metadata": {},
   "outputs": [
    {
     "name": "stdout",
     "output_type": "stream",
     "text": [
      "Hello World!\n"
     ]
    }
   ],
   "source": [
    "print('Hello World!')"
   ]
  },
  {
   "cell_type": "markdown",
   "metadata": {},
   "source": [
    "You see that the ```print``` command is executed and the message is printed. (Can you now print a different message?) Use up or down navigation keys to move between cells. Alternatively, click (sometime double click) on a cell to enter it.\n",
    "\n",
    "## Begin here\n",
    "\n",
    "Now, let us print and plot the data from our simulation. In the following cells containing code, any text following the # symbol is a **comment** describing what is happening. You can follow what each step is doing by reading the comments and executing the cells in the given order. Comments are not executed. First, we import a few useful packages."
   ]
  },
  {
   "cell_type": "code",
   "execution_count": 2,
   "metadata": {},
   "outputs": [],
   "source": [
    "# 'numpy' package for array manipulations\n",
    "import numpy as np\n",
    "\n",
    "# 'matplotlib.pyplot' package for plotting\n",
    "import matplotlib.pyplot as plt\n",
    "\n",
    "# sys package for some system-level functions\n",
    "import sys\n",
    "\n",
    "# this line makes plots pop-out, which you can later save as a .jpg or .png\n",
    "%matplotlib tk\n",
    "\n",
    "# Execute this cell before proceeding. Shift+Enter."
   ]
  },
  {
   "cell_type": "markdown",
   "metadata": {},
   "source": [
    "sys package is installed by default with python. If numpy or matplotlib packages are not installed on your machine, run the commands\n",
    "```pip install numpy``` and ```pip install matplotlib``` on your terminal and execute the above cell again."
   ]
  },
  {
   "cell_type": "code",
   "execution_count": 3,
   "metadata": {},
   "outputs": [],
   "source": [
    "## LOADING DATA\n",
    "# loading the file that contains node names\n",
    "f_all_node_name = open('Node Name and their initial state.txt', 'r')\n",
    "\n",
    "# making a dictionary with node names\n",
    "all_nodes = []\n",
    "for line in f_all_node_name:\n",
    "    for i in range(len(line)):\n",
    "        if(line[i] in [' ', '\\n']):\n",
    "            s = line[0:i].strip()\n",
    "            if(len(s)):\n",
    "                all_nodes.append(s)\n",
    "            break\n",
    "    \n",
    "num2name = dict([(i,all_nodes[i]) for i in range(len(all_nodes))])\n",
    "name2num = dict([(all_nodes[i],i) for i in range(len(all_nodes))])"
   ]
  },
  {
   "cell_type": "markdown",
   "metadata": {},
   "source": [
    "We have made a dictionary (a kind of a list) with all the node names in it. Let's see the list. Execute the following cell"
   ]
  },
  {
   "cell_type": "code",
   "execution_count": 4,
   "metadata": {},
   "outputs": [
    {
     "name": "stdout",
     "output_type": "stream",
     "text": [
      "ABA\n",
      "VATPase\n",
      "DAG\n",
      "InsP6\n",
      "Ca2ATPase\n",
      "HAB1\n",
      "MAPK912\n",
      "Microtubule\n",
      "NIA12\n",
      "NOGC1\n",
      "PEPC\n",
      "PI3P5K\n",
      "PIP2\n",
      "PP2CA\n",
      "PtdIns35P2\n",
      "RCARs\n",
      "TCTP\n",
      "ROP11\n",
      "VPpase\n",
      "Vacidification\n",
      "ADPRc\n",
      "ABI2\n",
      "AtRAC1\n",
      "CPK213\n",
      "GHR1\n",
      "InsP3\n",
      "KEV\n",
      "PLDa\n",
      "QUAC1\n",
      "SphK12\n",
      "cADPR\n",
      "cGMP\n",
      "NitrocGMP\n",
      "AnionEM\n",
      "GPA1\n",
      "CIS\n",
      "Ca2c\n",
      "KOUT\n",
      "OST1\n",
      "PLDd\n",
      "SLAH3\n",
      "pHc\n",
      "S1P\n",
      "ABI1\n",
      "Malate\n",
      "NO\n",
      "PA\n",
      "ROS\n",
      "Actin\n",
      "HATPase\n",
      "Depolar\n",
      "KEfflux\n",
      "PIP21\n",
      "H2OEfflux\n",
      "RBOH\n",
      "CaIM\n",
      "SLAC1\n",
      "PLC\n",
      "SPP1\n",
      "GEF1410\n",
      "NtSyp121\n",
      "ARP23\n",
      "ABH1\n",
      "ERA1\n",
      "GAPC\n",
      "MRP5\n",
      "NAD\n",
      "NADPH\n",
      "GCR1\n",
      "Nitrite\n",
      "PC\n",
      "PtdInsP3\n",
      "PtdInsP4\n",
      "RCN1\n",
      "SCAB1\n",
      "Sph\n",
      "GTP\n",
      "DAGK\n",
      "CPK6\n",
      "CPK23\n",
      "Closure\n"
     ]
    }
   ],
   "source": [
    "# loop to print the names of nodes used in the simulation.\n",
    "for i in range(len(all_nodes)):\n",
    "    print(all_nodes[i]) "
   ]
  },
  {
   "cell_type": "code",
   "execution_count": 5,
   "metadata": {},
   "outputs": [],
   "source": [
    "# loading the file that contains simulation data\n",
    "bool_net = np.load('net_after_parsing.npy')"
   ]
  },
  {
   "cell_type": "markdown",
   "metadata": {},
   "source": [
    "```bool_net``` is a 3-dimensional array with a shape ```initial conditions x time steps (including 0) x number of nodes```. The following cell prints the shape of ```bool_net```."
   ]
  },
  {
   "cell_type": "code",
   "execution_count": 6,
   "metadata": {},
   "outputs": [
    {
     "data": {
      "text/plain": [
       "(2500, 21, 81)"
      ]
     },
     "execution_count": 6,
     "metadata": {},
     "output_type": "execute_result"
    }
   ],
   "source": [
    "bool_net.shape"
   ]
  },
  {
   "cell_type": "markdown",
   "metadata": {},
   "source": [
    "## Plotting data\n",
    "\n",
    "Skip to the next subsection 'Printing data' if you just want to print out the average activity values of data without plotting them."
   ]
  },
  {
   "cell_type": "markdown",
   "metadata": {},
   "source": [
    "```nodes_to_plot``` below is a list containing the names of nodes to be plotted. You can add nodes to the list by typing their names within quotes, after a comma. See the example in the comment."
   ]
  },
  {
   "cell_type": "code",
   "execution_count": 14,
   "metadata": {},
   "outputs": [],
   "source": [
    "nodes_to_plot = ['Closure', 'Ca2c']\n",
    "# example:\n",
    "# nodes_to_plot = ['Closure', 'SLAC1']"
   ]
  },
  {
   "cell_type": "markdown",
   "metadata": {},
   "source": [
    "The following cell checks if the names you entered are valid. In case 'a node is not found in the network', check the above cell for spelling and formatting. Names are case-sensitive."
   ]
  },
  {
   "cell_type": "code",
   "execution_count": 15,
   "metadata": {},
   "outputs": [
    {
     "name": "stdout",
     "output_type": "stream",
     "text": [
      "Closure exists in the network.\n",
      "Ca2c exists in the network.\n"
     ]
    }
   ],
   "source": [
    "for name in nodes_to_plot:\n",
    "    if(name in all_nodes):\n",
    "        print('{} exists in the network.'.format(name))\n",
    "    else:\n",
    "        print('{} is not found in the network.'.format(name))"
   ]
  },
  {
   "cell_type": "markdown",
   "metadata": {},
   "source": [
    "Now, we plot the activity of all the chosen nodes under the same axes. The average activity of a node at time t is the percentage of the initial conditions in which the node is ON (=1) at time t.\n",
    "\n",
    "Feel free to play around with ```label```, ```ticks```, etc in the plot properties to suit to your requirements."
   ]
  },
  {
   "cell_type": "code",
   "execution_count": 16,
   "metadata": {},
   "outputs": [],
   "source": [
    "# PLOT\n",
    "\n",
    "# points on time-axis\n",
    "t_list = range(bool_net.shape[1])   \n",
    "\n",
    "# number of initial conditions\n",
    "init_cond = bool_net.shape[0]       \n",
    "\n",
    "# defining a figure object\n",
    "plt.figure(1)\n",
    "\n",
    "# computing and plotting the average activity for each node in nodes_to_plot\n",
    "for name in nodes_to_plot:\n",
    "    avg_act = 100*np.sum(bool_net[:,:,name2num[name]], axis=0)/init_cond\n",
    "    plt.plot(t_list, avg_act)    \n",
    "\n",
    "# plot properties: axes labels, ticks, and such\n",
    "plt.xlabel('Time', fontsize=15)\n",
    "plt.ylabel('Activity percentage', fontsize=15)\n",
    "plt.xticks(range(0,1+bool_net.shape[1],4), fontsize=16)\n",
    "plt.yticks(range(0,101,20), fontsize=16)\n",
    "plt.legend(nodes_to_plot, fontsize=15)\n",
    "plt.show()"
   ]
  },
  {
   "cell_type": "markdown",
   "metadata": {},
   "source": [
    "## Printing data\n",
    "\n",
    "If you just want the raw values of average activity of a node, which you can use with your other favorite software tools, execute the following cells "
   ]
  },
  {
   "cell_type": "markdown",
   "metadata": {},
   "source": [
    "```nodes_to_print``` below is a list containing the names of nodes whose average activity you want to print. You can add nodes to the list by typing their names within quotes, after a comma. See the example in the comment."
   ]
  },
  {
   "cell_type": "code",
   "execution_count": 17,
   "metadata": {},
   "outputs": [],
   "source": [
    "nodes_to_print = ['Closure', 'Ca2c', 'SLAC1']\n",
    "# example:\n",
    "# nodes_to_plot = ['Closure', 'SLAC1']"
   ]
  },
  {
   "cell_type": "markdown",
   "metadata": {},
   "source": [
    "The following cell checks if the names you entered are valid. In case 'a node is not found in the network', check the above cell for spelling and formatting. Names are case-sensitive."
   ]
  },
  {
   "cell_type": "code",
   "execution_count": 18,
   "metadata": {},
   "outputs": [
    {
     "name": "stdout",
     "output_type": "stream",
     "text": [
      "Closure exists in the network.\n",
      "Ca2c exists in the network.\n",
      "SLAC1 exists in the network.\n"
     ]
    }
   ],
   "source": [
    "for name in nodes_to_print:\n",
    "    if(name in all_nodes):\n",
    "        print('{} exists in the network.'.format(name))\n",
    "    else:\n",
    "        print('{} is not found in the network.'.format(name))"
   ]
  },
  {
   "cell_type": "markdown",
   "metadata": {},
   "source": [
    "The following cell prints the data. First comes the time axis data (common to all nodes), and then come the data for each node in ```nodes_to_print```."
   ]
  },
  {
   "cell_type": "code",
   "execution_count": 19,
   "metadata": {},
   "outputs": [
    {
     "name": "stdout",
     "output_type": "stream",
     "text": [
      "Time data\n",
      "[0, 1, 2, 3, 4, 5, 6, 7, 8, 9, 10, 11, 12, 13, 14, 15, 16, 17, 18, 19, 20] \n",
      "\n",
      "Avg activity for Closure\n",
      "[  0.     0.08   0.24   5.24  17.48  35.28  56.36  71.44  83.2   90.12\n",
      "  93.84  96.56  98.2   98.6   99.24  99.72  99.8   99.92 100.    99.96\n",
      "  99.96] \n",
      "\n",
      "Avg activity for Ca2c\n",
      "[ 0.   38.68 48.68 38.48 56.92 49.16 47.92 52.6  48.64 47.76 52.08 48.32\n",
      " 50.6  51.08 48.52 50.56 49.96 49.16 50.52 49.72 50.64] \n",
      "\n",
      "Avg activity for SLAC1\n",
      "[  0.     0.     0.08   2.    12.44  34.2   57.16  74.    85.16  91.2\n",
      "  95.2   97.32  98.16  99.16  99.56  99.76  99.88 100.    99.96  99.96\n",
      " 100.  ] \n",
      "\n"
     ]
    }
   ],
   "source": [
    "# points on time-axis\n",
    "t_list = range(bool_net.shape[1])\n",
    "print('Time data')\n",
    "print(list(t_list), '\\n')\n",
    "\n",
    "# activity for each node in nodes_to_print\n",
    "for name in nodes_to_print:\n",
    "    avg_act = 100*np.sum(bool_net[:,:,name2num[name]], axis=0)/init_cond\n",
    "    np.set_printoptions(suppress=True, precision=2)\n",
    "    print('Avg activity for {}'.format(name))\n",
    "    print(avg_act, '\\n')"
   ]
  },
  {
   "cell_type": "code",
   "execution_count": null,
   "metadata": {},
   "outputs": [],
   "source": []
  }
 ],
 "metadata": {
  "kernelspec": {
   "display_name": "Python 3",
   "language": "python",
   "name": "python3"
  },
  "language_info": {
   "codemirror_mode": {
    "name": "ipython",
    "version": 3
   },
   "file_extension": ".py",
   "mimetype": "text/x-python",
   "name": "python",
   "nbconvert_exporter": "python",
   "pygments_lexer": "ipython3",
   "version": "3.8.6"
  }
 },
 "nbformat": 4,
 "nbformat_minor": 4
}
